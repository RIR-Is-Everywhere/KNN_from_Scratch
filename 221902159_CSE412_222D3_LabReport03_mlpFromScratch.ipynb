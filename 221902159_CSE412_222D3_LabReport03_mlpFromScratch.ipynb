{
  "nbformat": 4,
  "nbformat_minor": 0,
  "metadata": {
    "colab": {
      "provenance": [],
      "toc_visible": true,
      "authorship_tag": "ABX9TyMk2ja2HMd9ymMmWE07EIim",
      "include_colab_link": true
    },
    "kernelspec": {
      "name": "python3",
      "display_name": "Python 3"
    },
    "language_info": {
      "name": "python"
    }
  },
  "cells": [
    {
      "cell_type": "markdown",
      "metadata": {
        "id": "view-in-github",
        "colab_type": "text"
      },
      "source": [
        "<a href=\"https://colab.research.google.com/github/RIR-Is-Everywhere/KNN_from_Scratch/blob/main/221902159_CSE412_222D3_LabReport03_mlpFromScratch.ipynb\" target=\"_parent\"><img src=\"https://colab.research.google.com/assets/colab-badge.svg\" alt=\"Open In Colab\"/></a>"
      ]
    },
    {
      "cell_type": "code",
      "execution_count": 1,
      "metadata": {
        "id": "aMJO08LFFEOi"
      },
      "outputs": [],
      "source": [
        "# MLP from Scratch: XOR Task\n",
        "import numpy as np\n",
        "import matplotlib.pyplot as plt"
      ]
    },
    {
      "cell_type": "code",
      "source": [
        "# Dataset: XOR\n",
        "X = np.array([[0,0],\n",
        "              [0,1],\n",
        "              [1,0],\n",
        "              [1,1]])\n",
        "y = np.array([[0],\n",
        "              [1],\n",
        "              [1],\n",
        "              [0]])\n"
      ],
      "metadata": {
        "id": "RmGCpf3eFar1"
      },
      "execution_count": 2,
      "outputs": []
    },
    {
      "cell_type": "code",
      "source": [
        "# Activation Functions\n",
        "def sigmoid(x):\n",
        "    return 1 / (1 + np.exp(-x))\n",
        "\n",
        "def sigmoid_deriv(x):\n",
        "    return sigmoid(x) * (1 - sigmoid(x))\n",
        "\n",
        "def relu(x):\n",
        "    return np.maximum(0, x)\n",
        "\n",
        "def relu_deriv(x):\n",
        "    return (x > 0).astype(float)"
      ],
      "metadata": {
        "id": "l1Az28SaFfZU"
      },
      "execution_count": 3,
      "outputs": []
    },
    {
      "cell_type": "code",
      "source": [
        "# Initialize Parameters\n",
        "def init_weights():\n",
        "    np.random.seed(42)\n",
        "    W1 = np.random.randn(2,2) * 0.1   # (input x hidden)\n",
        "    b1 = np.zeros((1,2))\n",
        "    W2 = np.random.randn(2,1) * 0.1   # (hidden x output)\n",
        "    b2 = np.zeros((1,1))\n",
        "    return W1, b1, W2, b2"
      ],
      "metadata": {
        "id": "B8y3trIMFiTs"
      },
      "execution_count": 4,
      "outputs": []
    },
    {
      "cell_type": "code",
      "source": [
        "# Forward Pass\n",
        "def forward(X, W1, b1, W2, b2, activation=\"sigmoid\"):\n",
        "    z1 = X @ W1 + b1\n",
        "    if activation == \"sigmoid\":\n",
        "        a1 = sigmoid(z1)\n",
        "    else:\n",
        "        a1 = relu(z1)\n",
        "    z2 = a1 @ W2 + b2\n",
        "    a2 = sigmoid(z2)  # output layer always sigmoid\n",
        "    return z1, a1, z2, a2"
      ],
      "metadata": {
        "id": "eccAqBscFpsE"
      },
      "execution_count": 5,
      "outputs": []
    },
    {
      "cell_type": "code",
      "source": [
        "# Backward Pass\n",
        "def backward(X, y, z1, a1, z2, a2, W2, activation=\"sigmoid\"):\n",
        "    m = len(y)\n",
        "    dz2 = a2 - y\n",
        "    dW2 = (a1.T @ dz2) / m\n",
        "    db2 = np.sum(dz2, axis=0, keepdims=True) / m\n",
        "\n",
        "    if activation == \"sigmoid\":\n",
        "        dz1 = (dz2 @ W2.T) * sigmoid_deriv(z1)\n",
        "    else:\n",
        "        dz1 = (dz2 @ W2.T) * relu_deriv(z1)\n",
        "\n",
        "    dW1 = (X.T @ dz1) / m\n",
        "    db1 = np.sum(dz1, axis=0, keepdims=True) / m\n",
        "\n",
        "    return dW1, db1, dW2, db2"
      ],
      "metadata": {
        "id": "czBXNZnPFsxr"
      },
      "execution_count": 6,
      "outputs": []
    },
    {
      "cell_type": "code",
      "source": [
        "# Training Function\n",
        "def train(X, y, lr=0.1, iterations=1000, activation=\"sigmoid\"):\n",
        "    W1, b1, W2, b2 = init_weights()\n",
        "    losses = []\n",
        "\n",
        "    for i in range(iterations):\n",
        "        # Forward\n",
        "        z1, a1, z2, a2 = forward(X, W1, b1, W2, b2, activation)\n",
        "\n",
        "        # Loss (MSE)\n",
        "        loss = np.mean((y - a2)**2)\n",
        "        losses.append(loss)\n",
        "\n",
        "        # Backward\n",
        "        dW1, db1, dW2, db2 = backward(X, y, z1, a1, z2, a2, W2, activation)\n",
        "\n",
        "        # Update\n",
        "        W1 -= lr * dW1\n",
        "        b1 -= lr * db1\n",
        "        W2 -= lr * dW2\n",
        "        b2 -= lr * db2\n",
        "\n",
        "        if i % (iterations//5) == 0:\n",
        "            print(f\"Iteration {i}, Loss: {loss:.4f}\")\n",
        "\n",
        "    return W1, b1, W2, b2, losses"
      ],
      "metadata": {
        "id": "V_Z0BEvnFvTj"
      },
      "execution_count": 7,
      "outputs": []
    },
    {
      "cell_type": "code",
      "source": [
        "# Evaluation Metrics\n",
        "def predict(X, W1, b1, W2, b2, activation=\"sigmoid\"):\n",
        "    _, _, _, a2 = forward(X, W1, b1, W2, b2, activation)\n",
        "    return (a2 >= 0.5).astype(int), a2\n",
        "\n",
        "def accuracy(y_true, y_pred):\n",
        "    return np.mean(y_true == y_pred)\n",
        "\n",
        "def precision(y_true, y_pred):\n",
        "    tp = np.sum((y_true==1) & (y_pred==1))\n",
        "    fp = np.sum((y_true==0) & (y_pred==1))\n",
        "    return tp / (tp+fp+1e-8)\n",
        "\n",
        "def recall(y_true, y_pred):\n",
        "    tp = np.sum((y_true==1) & (y_pred==1))\n",
        "    fn = np.sum((y_true==1) & (y_pred==0))\n",
        "    return tp / (tp+fn+1e-8)\n",
        "\n",
        "def f1_score(y_true, y_pred):\n",
        "    p = precision(y_true, y_pred)\n",
        "    r = recall(y_true, y_pred)\n",
        "    return 2 * p * r / (p + r + 1e-8)\n",
        "\n",
        "def roc_curve(y_true, y_prob):\n",
        "    thresholds = np.linspace(0,1,50)\n",
        "    tpr, fpr = [], []\n",
        "    for t in thresholds:\n",
        "        y_pred = (y_prob >= t).astype(int)\n",
        "        tp = np.sum((y_true==1) & (y_pred==1))\n",
        "        fn = np.sum((y_true==1) & (y_pred==0))\n",
        "        fp = np.sum((y_true==0) & (y_pred==1))\n",
        "        tn = np.sum((y_true==0) & (y_pred==0))\n",
        "        tpr.append(tp/(tp+fn+1e-8))\n",
        "        fpr.append(fp/(fp+tn+1e-8))\n",
        "    return fpr, tpr"
      ],
      "metadata": {
        "id": "CcKs_UhQFyGT"
      },
      "execution_count": 8,
      "outputs": []
    },
    {
      "cell_type": "code",
      "source": [
        "# Run Experiment\n",
        "W1, b1, W2, b2, losses = train(X, y, lr=0.1, iterations=5000, activation=\"sigmoid\")\n",
        "\n",
        "# Plot Loss\n",
        "plt.plot(losses)\n",
        "plt.title(\"Training Loss\")\n",
        "plt.xlabel(\"Iteration\")\n",
        "plt.ylabel(\"MSE Loss\")\n",
        "plt.show()"
      ],
      "metadata": {
        "colab": {
          "base_uri": "https://localhost:8080/",
          "height": 579
        },
        "id": "yLtI74naF1lD",
        "outputId": "c4123d4d-6ed9-4873-d83a-65fec58159f1"
      },
      "execution_count": 9,
      "outputs": [
        {
          "output_type": "stream",
          "name": "stdout",
          "text": [
            "Iteration 0, Loss: 0.2500\n",
            "Iteration 1000, Loss: 0.2500\n",
            "Iteration 2000, Loss: 0.2500\n",
            "Iteration 3000, Loss: 0.2500\n",
            "Iteration 4000, Loss: 0.2500\n"
          ]
        },
        {
          "output_type": "display_data",
          "data": {
            "text/plain": [
              "<Figure size 640x480 with 1 Axes>"
            ],
            "image/png": "[encoded data removed]"
          },
          "metadata": {}
        }
      ]
    },
    {
      "cell_type": "code",
      "source": [
        "# Predictions\n",
        "y_pred, y_prob = predict(X, W1, b1, W2, b2, activation=\"sigmoid\")\n",
        "\n",
        "print(\"Accuracy:\", accuracy(y, y_pred))\n",
        "print(\"Precision:\", precision(y, y_pred))\n",
        "print(\"Recall:\", recall(y, y_pred))\n",
        "print(\"F1-score:\", f1_score(y, y_pred))"
      ],
      "metadata": {
        "colab": {
          "base_uri": "https://localhost:8080/"
        },
        "id": "IW2QjffuF3xz",
        "outputId": "69bb398b-c121-443c-9aa3-960c14111a10"
      },
      "execution_count": 10,
      "outputs": [
        {
          "output_type": "stream",
          "name": "stdout",
          "text": [
            "Accuracy: 0.5\n",
            "Precision: 0.4999999975\n",
            "Recall: 0.4999999975\n",
            "F1-score: 0.4999999925000001\n"
          ]
        }
      ]
    },
    {
      "cell_type": "code",
      "source": [
        "# ROC Curve\n",
        "fpr, tpr = roc_curve(y, y_prob)\n",
        "plt.plot(fpr, tpr, marker='o')\n",
        "plt.plot([0,1],[0,1],'--')\n",
        "plt.title(\"ROC Curve\")\n",
        "plt.xlabel(\"False Positive Rate\")\n",
        "plt.ylabel(\"True Positive Rate\")\n",
        "plt.show()"
      ],
      "metadata": {
        "id": "WLUS8QkAF6aj",
        "outputId": "c7c168ed-ac86-4e30-828e-a6e86340ba41",
        "colab": {
          "base_uri": "https://localhost:8080/",
          "height": 492
        }
      },
      "execution_count": 11,
      "outputs": [
        {
          "output_type": "display_data",
          "data": {
            "text/plain": [
              "<Figure size 640x480 with 1 Axes>"
            ],
            "image/png": "[encoded data removed]"
          },
          "metadata": {}
        }
      ]
    },
    {
      "cell_type": "code",
      "source": [],
      "metadata": {
        "id": "3Et5Y3e7F8E7"
      },
      "execution_count": 11,
      "outputs": []
    }
  ]
}