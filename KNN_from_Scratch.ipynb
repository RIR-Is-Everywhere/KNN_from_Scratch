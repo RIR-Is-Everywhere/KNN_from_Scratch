{
  "nbformat": 4,
  "nbformat_minor": 0,
  "metadata": {
    "colab": {
      "provenance": [],
      "authorship_tag": "ABX9TyO7jyFAn40aOka2qFSdnOSm",
      "include_colab_link": true
    },
    "kernelspec": {
      "name": "python3",
      "display_name": "Python 3"
    },
    "language_info": {
      "name": "python"
    }
  },
  "cells": [
    {
      "cell_type": "markdown",
      "metadata": {
        "id": "view-in-github",
        "colab_type": "text"
      },
      "source": [
        "<a href=\"https://colab.research.google.com/github/RIR-Is-Everywhere/KNN_from_Scratch/blob/main/KNN_from_Scratch.ipynb\" target=\"_parent\"><img src=\"https://colab.research.google.com/assets/colab-badge.svg\" alt=\"Open In Colab\"/></a>"
      ]
    },
    {
      "cell_type": "code",
      "execution_count": 5,
      "metadata": {
        "id": "NM1uBwT2v3uv"
      },
      "outputs": [],
      "source": [
        "# Setup\n",
        "import numpy as np\n",
        "import pandas as pd\n",
        "from collections import Counter\n",
        "from sklearn.datasets import load_iris\n",
        "from sklearn.model_selection import train_test_split\n",
        "from sklearn.preprocessing import LabelEncoder\n",
        "from sklearn.feature_extraction.text import TfidfVectorizer\n",
        "from sklearn.neighbors import KNeighborsClassifier as SklearnKNN\n",
        "from sklearn.metrics import accuracy_score, confusion_matrix, precision_score, recall_score, f1_score"
      ]
    },
    {
      "cell_type": "code",
      "source": [
        "#  KNN Algorithm from Scratch\n",
        "class KNNClassifier:\n",
        "    def __init__(self, k=3):\n",
        "        self.k = k\n",
        "\n",
        "    def fit(self, X_train, y_train):\n",
        "        self.X_train = np.array(X_train)\n",
        "        self.y_train = np.array(y_train)\n",
        "\n",
        "    def _distance(self, a, b):\n",
        "        return np.linalg.norm(a - b)\n",
        "\n",
        "    def predict(self, X_test):\n",
        "        predictions = []\n",
        "        for test_point in X_test:\n",
        "            distances = [self._distance(test_point, train_point) for train_point in self.X_train]\n",
        "            k_indices = np.argsort(distances)[:self.k]\n",
        "            k_labels = self.y_train[k_indices]\n",
        "            majority = Counter(k_labels).most_common(1)[0][0]\n",
        "            predictions.append(majority)\n",
        "        return np.array(predictions)"
      ],
      "metadata": {
        "id": "U5FXGu7CwOHk"
      },
      "execution_count": 6,
      "outputs": []
    },
    {
      "cell_type": "code",
      "source": [
        "# 📊 Custom Evaluation Metrics\n",
        "def custom_accuracy(y_true, y_pred):\n",
        "    return np.mean(y_true == y_pred)\n",
        "\n",
        "def custom_confusion_matrix(y_true, y_pred):\n",
        "    labels = np.unique(np.concatenate((y_true, y_pred)))\n",
        "    matrix = np.zeros((len(labels), len(labels)), dtype=int)\n",
        "    for true, pred in zip(y_true, y_pred):\n",
        "        matrix[true][pred] += 1\n",
        "    return matrix\n",
        "\n",
        "def custom_precision(y_true, y_pred):\n",
        "    cm = custom_confusion_matrix(y_true, y_pred)\n",
        "    with np.errstate(divide='ignore', invalid='ignore'):\n",
        "        precision = np.diag(cm) / np.sum(cm, axis=0)\n",
        "        precision = np.nan_to_num(precision)\n",
        "    return np.mean(precision)\n",
        "\n",
        "def custom_recall(y_true, y_pred):\n",
        "    cm = custom_confusion_matrix(y_true, y_pred)\n",
        "    with np.errstate(divide='ignore', invalid='ignore'):\n",
        "        recall = np.diag(cm) / np.sum(cm, axis=1)\n",
        "        recall = np.nan_to_num(recall)\n",
        "    return np.mean(recall)\n",
        "\n",
        "def custom_f1(prec, rec):\n",
        "    if (prec + rec) == 0:\n",
        "        return 0\n",
        "    return 2 * (prec * rec) / (prec + rec)"
      ],
      "metadata": {
        "id": "v_Z-vOaLwRnD"
      },
      "execution_count": 7,
      "outputs": []
    },
    {
      "cell_type": "code",
      "source": [
        "#  Part 1: Iris Flower Dataset\n",
        "iris = load_iris()\n",
        "X_iris, y_iris = iris.data, iris.target"
      ],
      "metadata": {
        "id": "5Ql_TTlwwU1z"
      },
      "execution_count": 9,
      "outputs": []
    },
    {
      "cell_type": "code",
      "source": [
        "# Optimal K and split test\n",
        "best_k = 0\n",
        "best_acc = 0\n",
        "for k in range(1, 11):\n",
        "    X_train, X_test, y_train, y_test = train_test_split(X_iris, y_iris, test_size=0.2, random_state=42)\n",
        "    knn = KNNClassifier(k=k)\n",
        "    knn.fit(X_train, y_train)\n",
        "    y_pred = knn.predict(X_test)\n",
        "    acc = custom_accuracy(y_test, y_pred)\n",
        "    if acc > best_acc:\n",
        "        best_acc = acc\n",
        "        best_k = k"
      ],
      "metadata": {
        "id": "9bdKUBU8wm9D"
      },
      "execution_count": 22,
      "outputs": []
    },
    {
      "cell_type": "code",
      "source": [
        "# Final run with best K\n",
        "print(f\"\\n Iris Dataset - Best k: {best_k}\")\n",
        "knn = KNNClassifier(k=best_k)\n",
        "knn.fit(X_train, y_train)\n",
        "y_pred = knn.predict(X_test)\n",
        "\n",
        "prec = custom_precision(y_test, y_pred)\n",
        "rec = custom_recall(y_test, y_pred)\n",
        "f1 = custom_f1(prec, rec)\n",
        "\n",
        "print(\"Custom Accuracy:\", round(best_acc, 4))\n",
        "print(\"Custom Confusion Matrix:\\n\", custom_confusion_matrix(y_test, y_pred))\n",
        "print(\"Custom Precision:\", round(prec, 4))\n",
        "print(\"Custom Recall:\", round(rec, 4))\n",
        "print(\"Custom F1-Score:\", round(f1, 4))"
      ],
      "metadata": {
        "colab": {
          "base_uri": "https://localhost:8080/"
        },
        "id": "NJEN0borwrmi",
        "outputId": "78a2f1d2-0e69-4351-ee3e-7bbd391bb257"
      },
      "execution_count": 14,
      "outputs": [
        {
          "output_type": "stream",
          "name": "stdout",
          "text": [
            "\n",
            " Iris Dataset - Best k: 1\n",
            "Custom Accuracy: 1.0\n",
            "Custom Confusion Matrix:\n",
            " [[10  0  0]\n",
            " [ 0  9  0]\n",
            " [ 0  0 11]]\n",
            "Custom Precision: 1.0\n",
            "Custom Recall: 1.0\n",
            "Custom F1-Score: 1.0\n"
          ]
        }
      ]
    },
    {
      "cell_type": "code",
      "source": [
        "\n",
        "#  Compare with sklearn\n",
        "sk_model = SklearnKNN(n_neighbors=best_k)\n",
        "sk_model.fit(X_train, y_train)\n",
        "sk_pred = sk_model.predict(X_test)\n",
        "\n",
        "print(\"\\n Scikit-learn Accuracy:\", round(accuracy_score(y_test, sk_pred), 4))\n",
        "print(\"Scikit-learn Precision:\", round(precision_score(y_test, sk_pred, average='macro'), 4))\n",
        "print(\"Scikit-learn Recall:\", round(recall_score(y_test, sk_pred, average='macro'), 4))\n",
        "print(\"Scikit-learn F1 Score:\", round(f1_score(y_test, sk_pred, average='macro'), 4))\n"
      ],
      "metadata": {
        "colab": {
          "base_uri": "https://localhost:8080/"
        },
        "id": "spHefEbSwt9S",
        "outputId": "20bdbd7a-55d5-4d7e-92af-623c113ae276"
      },
      "execution_count": 16,
      "outputs": [
        {
          "output_type": "stream",
          "name": "stdout",
          "text": [
            "\n",
            " Scikit-learn Accuracy: 1.0\n",
            "Scikit-learn Precision: 1.0\n",
            "Scikit-learn Recall: 1.0\n",
            "Scikit-learn F1 Score: 1.0\n"
          ]
        }
      ]
    },
    {
      "cell_type": "code",
      "source": [
        "#  Part 2: News Dataset (Custom)\n",
        "news_data = [\n",
        "    (\"Politics: Prime Minister announces new budget.\", \"Politics\"),\n",
        "    (\"Sports: Local team wins championship.\", \"Sports\"),\n",
        "    (\"Technology: New AI tool released.\", \"Tech\"),\n",
        "    (\"Tech: Quantum computing breakthrough.\", \"Tech\"),\n",
        "    (\"Sports: Olympic games to begin soon.\", \"Sports\"),\n",
        "    (\"Politics: Election campaigns begin.\", \"Politics\"),\n",
        "]\n",
        "\n",
        "news_df = pd.DataFrame(news_data, columns=[\"text\", \"label\"])\n",
        "vectorizer = TfidfVectorizer()\n",
        "X_news = vectorizer.fit_transform(news_df['text']).toarray()\n",
        "y_news = LabelEncoder().fit_transform(news_df['label'])"
      ],
      "metadata": {
        "id": "dASWfWmJwxCi"
      },
      "execution_count": 17,
      "outputs": []
    },
    {
      "cell_type": "code",
      "source": [
        "# Split and train on News Dataset\n",
        "Xn_train, Xn_test, yn_train, yn_test = train_test_split(X_news, y_news, test_size=0.33, random_state=42)\n"
      ],
      "metadata": {
        "id": "eMwsE339w3Lq"
      },
      "execution_count": 18,
      "outputs": []
    },
    {
      "cell_type": "code",
      "source": [
        "# Test optimal k for news\n",
        "best_k_news = 0\n",
        "best_acc_news = 0\n",
        "for k in range(1, 6):\n",
        "    knn = KNNClassifier(k=k)\n",
        "    knn.fit(Xn_train, yn_train)\n",
        "    yn_pred = knn.predict(Xn_test)\n",
        "    acc = custom_accuracy(yn_test, yn_pred)\n",
        "    if acc > best_acc_news:\n",
        "        best_acc_news = acc\n",
        "        best_k_news = k\n"
      ],
      "metadata": {
        "id": "j5PFXFquw45i"
      },
      "execution_count": 19,
      "outputs": []
    },
    {
      "cell_type": "code",
      "source": [
        "# Evaluate with best k\n",
        "print(f\"\\n News Dataset - Best k: {best_k_news}\")\n",
        "knn = KNNClassifier(k=best_k_news)\n",
        "knn.fit(Xn_train, yn_train)\n",
        "yn_pred = knn.predict(Xn_test)\n",
        "\n",
        "prec = custom_precision(yn_test, yn_pred)\n",
        "rec = custom_recall(yn_test, yn_pred)\n",
        "f1 = custom_f1(prec, rec)\n",
        "\n",
        "print(\"Custom Accuracy:\", round(custom_accuracy(yn_test, yn_pred), 4))\n",
        "print(\"Custom Confusion Matrix:\\n\", custom_confusion_matrix(yn_test, yn_pred))\n",
        "print(\"Custom Precision:\", round(prec, 4))\n",
        "print(\"Custom Recall:\", round(rec, 4))\n",
        "print(\"Custom F1-Score:\", round(f1, 4))"
      ],
      "metadata": {
        "colab": {
          "base_uri": "https://localhost:8080/"
        },
        "id": "Btx1SSAow7OK",
        "outputId": "e22686b1-a5de-4748-8529-4ba398d74ee4"
      },
      "execution_count": 20,
      "outputs": [
        {
          "output_type": "stream",
          "name": "stdout",
          "text": [
            "\n",
            " News Dataset - Best k: 1\n",
            "Custom Accuracy: 1.0\n",
            "Custom Confusion Matrix:\n",
            " [[1 0]\n",
            " [0 1]]\n",
            "Custom Precision: 1.0\n",
            "Custom Recall: 1.0\n",
            "Custom F1-Score: 1.0\n"
          ]
        }
      ]
    },
    {
      "cell_type": "code",
      "source": [
        "# Compare with sklearn KNN\n",
        "sk_news = SklearnKNN(n_neighbors=best_k_news)\n",
        "sk_news.fit(Xn_train, yn_train)\n",
        "yn_pred_sk = sk_news.predict(Xn_test)\n",
        "\n",
        "print(\"\\n Scikit-learn News Accuracy:\", round(accuracy_score(yn_test, yn_pred_sk), 4))\n",
        "print(\"Scikit-learn Precision:\", round(precision_score(yn_test, yn_pred_sk, average='macro'), 4))\n",
        "print(\"Scikit-learn Recall:\", round(recall_score(yn_test, yn_pred_sk, average='macro'), 4))\n",
        "print(\"Scikit-learn F1 Score:\", round(f1_score(yn_test, yn_pred_sk, average='macro'), 4))"
      ],
      "metadata": {
        "colab": {
          "base_uri": "https://localhost:8080/"
        },
        "id": "8yoq4V11w97D",
        "outputId": "a7d1e19f-516d-4cc3-9016-123a2d984a27"
      },
      "execution_count": 21,
      "outputs": [
        {
          "output_type": "stream",
          "name": "stdout",
          "text": [
            "\n",
            " Scikit-learn News Accuracy: 1.0\n",
            "Scikit-learn Precision: 1.0\n",
            "Scikit-learn Recall: 1.0\n",
            "Scikit-learn F1 Score: 1.0\n"
          ]
        }
      ]
    },
    {
      "cell_type": "code",
      "source": [],
      "metadata": {
        "id": "6HMBIPEXxE7y"
      },
      "execution_count": null,
      "outputs": []
    }
  ]
}